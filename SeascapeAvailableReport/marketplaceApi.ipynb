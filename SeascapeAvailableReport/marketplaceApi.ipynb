{
 "cells": [
  {
   "cell_type": "code",
   "execution_count": 1,
   "metadata": {},
   "outputs": [],
   "source": [
    "from datetime import datetime\n",
    "\n",
    "currentDate = datetime.now().strftime(\"%Y_%m_%d\")\n",
    "\n",
    "scapeStoreAddress = '0xae54f8927ADAdB65EC79f7130B1a46FEd35E8bFd'\n",
    "stakingSaloonAddress = '0x1a373c9EAAe4295f32DAa4155025b5aEF6B92Bf6'\n",
    "burnAddress = '0x0000000000000000000000000000000000000000'"
   ]
  },
  {
   "cell_type": "code",
   "execution_count": 2,
   "metadata": {},
   "outputs": [
    {
     "name": "stdout",
     "output_type": "stream",
     "text": [
      "OOps: Something Else 404 Client Error: Not Found for url: https://moonriver-api.seascape.network/nft/data/35697\n"
     ]
    }
   ],
   "source": [
    "import json\n",
    "import requests as req\n",
    "\n",
    "blockchains = ['', 'bsc-', 'moonriver-']\n",
    "# blockchains = ['moonriver-']\n",
    "\n",
    "for chain in blockchains:\n",
    "    allScapes = []\n",
    "\n",
    "    maxScapeIdFound = False \n",
    "    id = 1\n",
    "\n",
    "    # Run until we found last id\n",
    "    while maxScapeIdFound  == False:\n",
    "        try:\n",
    "            url = 'http://' + chain + 'api.seascape.network/nft/data/'+str(id)\n",
    "            r = req.get(url,timeout=3)\n",
    "            r.raise_for_status()\n",
    "            response = req.get(url)\n",
    "            data = json.loads(response.text)\n",
    "\n",
    "            allScapes.append(data)              \n",
    "            id += 1\n",
    "        except req.exceptions.RequestException as err:\n",
    "            maxScapeIdFound = True\n",
    "            print (\"OOps: Something Else\",err)\n",
    "        except req.exceptions.HTTPError as errh:\n",
    "            maxScapeIdFound = True\n",
    "            print (\"Http Error:\",errh)\n",
    "        except req.exceptions.ConnectionError as errc:\n",
    "            print (\"Error Connecting:\",errc)\n",
    "        except req.exceptions.Timeout as errt:\n",
    "            print (\"Timeout Error:\",errt)\n",
    "\n",
    "    # Save to the file with adding blockain name(ethereum will be empty) and current date\n",
    "    with open(chain + 'allScapes_' + currentDate + '.json', 'w', encoding='utf-8') as f:\n",
    "        json.dump(allScapes, f, ensure_ascii=False, indent=4)                \n"
   ]
  },
  {
   "cell_type": "code",
   "execution_count": null,
   "metadata": {},
   "outputs": [],
   "source": [
    "import numpy as np\n",
    "import pandas as pd\n",
    "import seaborn as sb\n",
    "import matplotlib.pyplot as plt\n",
    "\n",
    "t = pd.read_json(chain + 'allScapes_' + currentDate + '.json')\n",
    "# t = pd.read_json('allScapes.json')\n",
    "# c = pd.read_json('commonScapes.json')\n",
    "# s = pd.read_json('specialScapes.json')\n",
    "# r = pd.read_json('rareScapes.json')\n",
    "# e = pd.read_json('epicScapes.json')\n",
    "# l = pd.read_json('legendaryScapes.json')\n",
    "\n",
    "# data = [['Common', len(c)], ['Special', len(s)], ['Rare', len(r)], ['Epic', len(e)], ['Legendary', len(l)], ['ALL', len(t)]]\n",
    "data = [['Common', len(c)], ['Special', len(s)], ['Rare', len(r)], ['Epic', len(e)], ['Legendary', len(l)], ['ALL', len(t)]]\n",
    " \n",
    "output = pd.DataFrame(data, columns = ['Rank', 'Count'])\n",
    "output"
   ]
  }
 ],
 "metadata": {
  "interpreter": {
   "hash": "2db524e06e9f5f4ffedc911c917cb75e12dbc923643829bf417064a77eb14d37"
  },
  "kernelspec": {
   "display_name": "Python 3.8.2 64-bit",
   "name": "python3"
  },
  "language_info": {
   "codemirror_mode": {
    "name": "ipython",
    "version": 3
   },
   "file_extension": ".py",
   "mimetype": "text/x-python",
   "name": "python",
   "nbconvert_exporter": "python",
   "pygments_lexer": "ipython3",
   "version": "3.8.2"
  },
  "orig_nbformat": 4
 },
 "nbformat": 4,
 "nbformat_minor": 2
}
